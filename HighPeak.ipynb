{
  "nbformat": 4,
  "nbformat_minor": 0,
  "metadata": {
    "colab": {
      "name": "HighPeak.ipynb",
      "provenance": [],
      "toc_visible": true,
      "authorship_tag": "ABX9TyN/bpT4IabceTKNrdjAlMkz",
      "include_colab_link": true
    },
    "kernelspec": {
      "name": "python3",
      "display_name": "Python 3"
    },
    "language_info": {
      "name": "python"
    }
  },
  "cells": [
    {
      "cell_type": "markdown",
      "metadata": {
        "id": "view-in-github",
        "colab_type": "text"
      },
      "source": [
        "<a href=\"https://colab.research.google.com/github/Naxious4/HighPick-Rajesh-Java/blob/main/HighPeak.ipynb\" target=\"_parent\"><img src=\"https://colab.research.google.com/assets/colab-badge.svg\" alt=\"Open In Colab\"/></a>"
      ]
    },
    {
      "cell_type": "code",
      "metadata": {
        "colab": {
          "base_uri": "https://localhost:8080/"
        },
        "id": "_j7MFhSFr8Xd",
        "outputId": "e115836a-3a85-47da-8057-97033ffc27f7"
      },
      "source": [
        "#open input file to read input\n",
        "in_file =open(\"/content/sample_input.txt\",\"r\")\n",
        "#open output file to write output\n",
        "out_file = open(\"/content/sample_output.txt\",\"w+\")\n",
        "goodies={}\n",
        "out_list=[]\n",
        "#reading input file \n",
        "for f in in_file:\n",
        "    toRead_index_price=f.index(\":\")\n",
        "    print(f[toRead_index_price+1:].strip())\n",
        "    print(f[:toRead_index_price])\n",
        "    goodies[f[:toRead_index_price]]=f[toRead_index_price+1:].strip()\n",
        "print(goodies) \n",
        "single_prices=list(goodies.values())\n",
        "\n",
        "\n",
        "single_prices=[int(i)for i in single_prices]\n",
        "#sorted list in decsending order to get prices to be distributed in order\n",
        "single_prices.sort(reverse=True)\n",
        "print(single_prices)\n",
        "#taking inputs\n",
        "num_of_employees=int(input(\"Enter number of employees: \"))\n",
        "leng_considered=(len(single_prices)-num_of_employees)\n",
        "\n",
        "print(leng_considered)\n",
        "\n",
        "#finding minimum difference between highest and lowest\n",
        "for i in range(leng_considered):\n",
        "    max_price=single_prices[i]\n",
        "    min_price=single_prices[num_of_employees+i]\n",
        "    if i == 0:\n",
        "        diff=max_price-min_price\n",
        "        idx_choosen=i\n",
        "    elif (max_price-min_price)<diff:\n",
        "        diff=max_price-min_price\n",
        "        idx_choosen=i\n",
        "\n",
        "choosen_prices=single_prices[idx_choosen:num_of_employees+idx_choosen]\n",
        "#differnce between high and low price\n",
        "diff=max(choosen_prices)-min(choosen_prices)\n",
        "print(\"diff\",diff)\n",
        "\n",
        "cnt=0\n",
        "for key,value in goodies.items():\n",
        "    single_prices[cnt]\n",
        "    print(value)\n",
        "    if int(value)in choosen_prices and cnt<num_of_employees:\n",
        "        str1=key+\": \"+value\n",
        "        #preparing  list for output\n",
        "        out_list.append(str1)\n",
        "        cnt+=1\n",
        "        print(str1)\n",
        "#writing to output file\n",
        "out_file.write(\"The goodies selected for distribution: \")\n",
        "\n",
        "out_file.write(\"\\n\")\n",
        "\n",
        "for i in out_list:\n",
        "    out_file.write(i)\n",
        "    out_file.write(\"\\n\")\n",
        "out_file.write(\"And the difference between the chosen goodie with highest price and the lowest price is \"+str(diff))\n",
        "\n",
        "in_file.close()\n",
        "out_file.close()"
      ],
      "execution_count": 2,
      "outputs": [
        {
          "output_type": "stream",
          "text": [
            "7980\n",
            "Fitbit Plus\n",
            "22349\n",
            "IPods\n",
            "999\n",
            "MI Band\n",
            "2799\n",
            "Cult Pass\n",
            "229900\n",
            "Macbook Pro\n",
            "11101\n",
            "Digital Camera\n",
            "9999\n",
            "Alexa\n",
            "2195\n",
            "Sandwich Toaster\n",
            "9800\n",
            "Microwave Oven\n",
            "4999\n",
            "Scale\n",
            "{'Fitbit Plus': '7980', 'IPods': '22349', 'MI Band': '999', 'Cult Pass': '2799', 'Macbook Pro': '229900', 'Digital Camera': '11101', 'Alexa': '9999', 'Sandwich Toaster': '2195', 'Microwave Oven': '9800', 'Scale': '4999'}\n",
            "[229900, 22349, 11101, 9999, 9800, 7980, 4999, 2799, 2195, 999]\n",
            "Enter number of employees: 6\n",
            "4\n",
            "diff 8302\n",
            "7980\n",
            "Fitbit Plus: 7980\n",
            "22349\n",
            "999\n",
            "2799\n",
            "Cult Pass: 2799\n",
            "229900\n",
            "11101\n",
            "Digital Camera: 11101\n",
            "9999\n",
            "Alexa: 9999\n",
            "2195\n",
            "9800\n",
            "Microwave Oven: 9800\n",
            "4999\n",
            "Scale: 4999\n"
          ],
          "name": "stdout"
        }
      ]
    },
    {
      "cell_type": "markdown",
      "metadata": {
        "id": "HBJk4SFpsE_K"
      },
      "source": [
        "# New Section"
      ]
    }
  ]
}